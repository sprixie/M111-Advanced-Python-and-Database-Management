{
 "cells": [
  {
   "cell_type": "markdown",
   "id": "3bf3292a",
   "metadata": {},
   "source": [
    "### Exercice:\n",
    "\n",
    "Scraping weather forecase from the The Weather Channel website `weather.com` using `requests` and `BeautifulSoup` libraries.\n",
    "\n",
    "1. Implement a scraping script for getting 10 days weather forecasts of Benguerir city and Tanger City.\n",
    "2. Store the data sets into Pandas DataFrame.\n",
    "3. Use matplotlib library to plot the raining days of the two cities in the same figure.  \n"
   ]
  },
  {
   "cell_type": "code",
   "execution_count": 1,
   "id": "e2008bdb",
   "metadata": {},
   "outputs": [],
   "source": [
    "import pandas as pd\n",
    "import numpy as np\n",
    "import matplotlib.pyplot as plt\n",
    "import seaborn as sns\n",
    "%matplotlib inline"
   ]
  },
  {
   "cell_type": "code",
   "execution_count": 2,
   "id": "63ca6c27",
   "metadata": {},
   "outputs": [],
   "source": [
    "from bs4 import BeautifulSoup\n",
    "import requests"
   ]
  },
  {
   "cell_type": "markdown",
   "id": "101f477e",
   "metadata": {},
   "source": [
    "<h1><center>10 days weather forcasts of Benguerir</center></h1>"
   ]
  },
  {
   "cell_type": "code",
   "execution_count": 3,
   "id": "6afd3956",
   "metadata": {},
   "outputs": [],
   "source": [
    "html = requests.get(\"https://weather.com/weather/tenday/l/f37580e42d804f6d54467e56dd9f296e15fe9a25db53ddee63601416ecc06111\")\n",
    "\n",
    "soup = BeautifulSoup(html.content, 'lxml') #create an instance of the BeautifulSoup class to parse our document"
   ]
  },
  {
   "cell_type": "code",
   "execution_count": 4,
   "id": "1d1c3337",
   "metadata": {},
   "outputs": [],
   "source": [
    "container = soup.find('div', id=\"WxuDailyCard-main-a43097e1-49d7-4df7-9d1a-334b29628263\")"
   ]
  },
  {
   "cell_type": "markdown",
   "id": "1e40d683",
   "metadata": {},
   "source": [
    "## 1- Implement a scraping script for getting 10 days weather forecasts of Benguerir city."
   ]
  },
  {
   "cell_type": "code",
   "execution_count": 5,
   "id": "b9108ceb",
   "metadata": {},
   "outputs": [],
   "source": [
    "list=[]\n",
    "for items in container:\n",
    "    for i in range(1,11):\n",
    "        # create empty dictionary\n",
    "        dict = {}\n",
    "        try:  \n",
    "            # assign value to given key\n",
    "            dict[\"Date\"]= items.find_all('h3', class_ = 'DetailsSummary--daypartName--kbngc')[i].text\n",
    "            dict[\"Desc\"]= items.find_all('span', class_= 'DetailsSummary--extendedData--307Ax')[i].text\n",
    "            dict[\"High temp\"]= items.find_all('span', class_ = 'DetailsSummary--highTempValue--3PjlX')[i].text\n",
    "            dict[\"Low temp\"]= items.find_all('span', class_ = 'DetailsSummary--lowTempValue--2tesQ')[i].text\n",
    "            dict[\"Precip\"]= items.find_all('div', class_= 'DetailsSummary--precip--1a98O')[i].text\n",
    "            dict[\"Wind\"]= items.find_all('span', class_ = 'Wind--windWrapper--3Ly7c undefined')[i].text\n",
    "        except: \n",
    "            # assign None values if no items are there with specified class\n",
    "            dict[\"day\"]=\"None\"\n",
    "            dict[\"desc\"]=\"None\"\n",
    "            dict[\"high temp\"]=\"None\"\n",
    "            dict[\"low temp\"]=\"None\"\n",
    "            dict[\"precip\"]=\"None\"\n",
    "            dict[\"wind\"]=\"None\"\n",
    " \n",
    "        # append dictionary values to the list\n",
    "        list.append(dict)   \n",
    "    "
   ]
  },
  {
   "cell_type": "markdown",
   "id": "6cb36b03",
   "metadata": {},
   "source": [
    "## 2- Store the data sets into Pandas DataFrame."
   ]
  },
  {
   "cell_type": "code",
   "execution_count": 6,
   "id": "b46ce930",
   "metadata": {
    "scrolled": false
   },
   "outputs": [
    {
     "name": "stdout",
     "output_type": "stream",
     "text": [
      "     Date           Desc High temp Low temp   Precip        Wind\n",
      "0  Sun 18  Partly Cloudy       72°      47°  Rain14%   SSE 7 mph\n",
      "1  Mon 19  Partly Cloudy       73°      45°   Rain8%     E 7 mph\n",
      "2  Tue 20   Mostly Sunny       73°      45°   Rain8%    SW 8 mph\n",
      "3  Wed 21          Sunny       70°      45°   Rain8%   ENE 8 mph\n",
      "4  Thu 22          Sunny       71°      43°  Rain10%   ENE 8 mph\n",
      "5  Fri 23          Sunny       72°      43°   Rain8%     S 7 mph\n",
      "6  Sat 24          Sunny       72°      44°   Rain5%     S 7 mph\n",
      "7  Sun 25   Mostly Sunny       71°      45°   Rain8%     E 8 mph\n",
      "8  Mon 26   Mostly Sunny       71°      49°   Rain7%  SSE 11 mph\n",
      "9  Tue 27  Partly Cloudy       69°      46°   Rain1%    S 10 mph\n"
     ]
    }
   ],
   "source": [
    "df_bg = pd.DataFrame(list)\n",
    "print(df_bg)"
   ]
  },
  {
   "cell_type": "markdown",
   "id": "5e68c5ab",
   "metadata": {},
   "source": [
    "<h1><center>10 days weather forcasts of Tangier</center></h1>"
   ]
  },
  {
   "cell_type": "code",
   "execution_count": 7,
   "id": "54d09462",
   "metadata": {},
   "outputs": [],
   "source": [
    "html1 = requests.get(\"https://weather.com/weather/tenday/l/701d5f2dd2a2b8cabcc505d69649a291257de6c1369a982396ea546ccb99198c\")\n",
    "\n",
    "soup_t = BeautifulSoup(html1.content, 'lxml') #create an instance of the BeautifulSoup class to parse our document"
   ]
  },
  {
   "cell_type": "code",
   "execution_count": 8,
   "id": "bee340af",
   "metadata": {},
   "outputs": [],
   "source": [
    "container = soup_t.find('div', id=\"WxuDailyCard-main-a43097e1-49d7-4df7-9d1a-334b29628263\")"
   ]
  },
  {
   "cell_type": "markdown",
   "id": "239a2631",
   "metadata": {},
   "source": [
    "## 1- Implement a scraping script for getting 10 days weather forecasts of Benguerir city."
   ]
  },
  {
   "cell_type": "code",
   "execution_count": 9,
   "id": "614d644b",
   "metadata": {},
   "outputs": [],
   "source": [
    "list=[]\n",
    "for items in container:\n",
    "    for i in range(1,11):\n",
    "        # create empty dictionary\n",
    "        dict = {}\n",
    "        try:  \n",
    "            # assign value to given key\n",
    "            dict[\"Date\"]= items.find_all('h3', class_ = 'DetailsSummary--daypartName--kbngc')[i].text\n",
    "            dict[\"Desc\"]= items.find_all('span', class_= 'DetailsSummary--extendedData--307Ax')[i].text\n",
    "            dict[\"High temp\"]= items.find_all('span', class_ = 'DetailsSummary--highTempValue--3PjlX')[i].text\n",
    "            dict[\"Low temp\"]= items.find_all('span', class_ = 'DetailsSummary--lowTempValue--2tesQ')[i].text\n",
    "            dict[\"Precip\"]= items.find_all('div', class_= 'DetailsSummary--precip--1a98O')[i].text\n",
    "            dict[\"Wind\"]= items.find_all('span', class_ = 'Wind--windWrapper--3Ly7c undefined')[i].text\n",
    "        except: \n",
    "            # assign None values if no items are there with specified class\n",
    "            dict[\"day\"]=\"None\"\n",
    "            dict[\"desc\"]=\"None\"\n",
    "            dict[\"high temp\"]=\"None\"\n",
    "            dict[\"low temp\"]=\"None\"\n",
    "            dict[\"precip\"]=\"None\"\n",
    "            dict[\"wind\"]=\"None\"\n",
    " \n",
    "        # append dictionary values to the list\n",
    "        list.append(dict)  "
   ]
  },
  {
   "cell_type": "markdown",
   "id": "50fab82d",
   "metadata": {},
   "source": [
    "## 2- Store the data sets into Pandas DataFrame."
   ]
  },
  {
   "cell_type": "code",
   "execution_count": 10,
   "id": "0832637a",
   "metadata": {
    "scrolled": true
   },
   "outputs": [
    {
     "name": "stdout",
     "output_type": "stream",
     "text": [
      "     Date           Desc High temp Low temp   Precip        Wind\n",
      "0  Sun 18  Partly Cloudy       69°      58°  Rain14%    E 14 mph\n",
      "1  Mon 19  Partly Cloudy       70°      54°  Rain14%     E 9 mph\n",
      "2  Tue 20     PM Showers       71°      59°  Rain42%  SSE 11 mph\n",
      "3  Wed 21        Showers       67°      56°  Rain52%    SW 7 mph\n",
      "4  Thu 22  AM Fog/PM Sun       66°      54°  Rain14%   NNW 4 mph\n",
      "5  Fri 23          Sunny       67°      54°  Rain12%   SSW 4 mph\n",
      "6  Sat 24   Mostly Sunny       67°      55°  Rain24%    SW 5 mph\n",
      "7  Sun 25        Showers       67°      57°  Rain36%   ESE 8 mph\n",
      "8  Mon 26  Partly Cloudy       67°      57°  Rain22%    E 12 mph\n",
      "9  Tue 27  Partly Cloudy       66°      57°  Rain22%  ESE 11 mph\n"
     ]
    }
   ],
   "source": [
    "df_tg = pd.DataFrame(list)\n",
    "print(df_tg)"
   ]
  },
  {
   "cell_type": "markdown",
   "id": "8d160da4",
   "metadata": {},
   "source": [
    "## 3- Use matplotlib library to plot the raining days of the two cities in the same figure.\n",
    "\n",
    "To do so let's, first encode categorical features as an integer array as follows:"
   ]
  },
  {
   "cell_type": "code",
   "execution_count": 11,
   "id": "bde1bed4",
   "metadata": {},
   "outputs": [],
   "source": [
    "from sklearn.preprocessing import OrdinalEncoder\n",
    "\n",
    "ord_enc = OrdinalEncoder()\n",
    "df_bg[\"state_to_code\"] = ord_enc.fit_transform(df_bg[[\"Desc\"]])\n",
    "df_tg[\"state_to_code\"] = ord_enc.fit_transform(df_tg[[\"Desc\"]])"
   ]
  },
  {
   "cell_type": "code",
   "execution_count": 12,
   "id": "f1a91017",
   "metadata": {},
   "outputs": [
    {
     "data": {
      "image/png": "[encoded data removed]",
      "text/plain": [
       "<Figure size 432x288 with 1 Axes>"
      ]
     },
     "metadata": {
      "needs_background": "light"
     },
     "output_type": "display_data"
    }
   ],
   "source": [
    "plt.hist(df_bg['state_to_code'],color='r', label='Benguerir')\n",
    "plt.hist(df_tg['state_to_code'],color='b', label='Tangier')\n",
    "plt.xlabel(\"state\")\n",
    "plt.legend()\n",
    "plt.grid()\n",
    "plt.show() "
   ]
  }
 ],
 "metadata": {
  "kernelspec": {
   "display_name": "Python 3",
   "language": "python",
   "name": "python3"
  },
  "language_info": {
   "codemirror_mode": {
    "name": "ipython",
    "version": 3
   },
   "file_extension": ".py",
   "mimetype": "text/x-python",
   "name": "python",
   "nbconvert_exporter": "python",
   "pygments_lexer": "ipython3",
   "version": "3.8.8"
  }
 },
 "nbformat": 4,
 "nbformat_minor": 5
}
