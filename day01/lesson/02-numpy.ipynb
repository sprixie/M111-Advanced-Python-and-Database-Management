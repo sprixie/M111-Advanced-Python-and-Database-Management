{
 "cells": [
  {
   "cell_type": "markdown",
   "id": "ad8ee436",
   "metadata": {},
   "source": [
    "# Numpy"
   ]
  },
  {
   "cell_type": "markdown",
   "id": "998f85cd",
   "metadata": {},
   "source": [
    "## What is Numpy?\n",
    "\n",
    "NumPy is a Python library used for working with arrays.\n",
    "\n",
    "It also has functions for working in domain of linear algebra, fourier transform, and matrices.\n",
    "\n",
    "NumPy was created in 2005 by Travis Oliphant. It is an open source project and you can use it freely.\n",
    "\n",
    "NumPy stands for Numerical Python"
   ]
  },
  {
   "cell_type": "markdown",
   "id": "306cebea",
   "metadata": {},
   "source": [
    "## Why Use NumPy?\n",
    "\n",
    "In Python we have lists that serve the purpose of arrays, but they are slow to process.\n",
    "\n",
    "NumPy aims to provide an array object that is up to 50x faster than traditional Python lists.\n",
    "\n",
    "The array object in NumPy is called `ndarray`, it provides a lot of supporting functions that make working with `ndarray` very easy.\n",
    "\n",
    "Arrays are very frequently used in data science, where speed and resources are very important."
   ]
  },
  {
   "cell_type": "markdown",
   "id": "355c9b22",
   "metadata": {},
   "source": [
    "<a id=\"section-one\"></a>\n",
    "# Section  1 - Import Numpy & basic check"
   ]
  },
  {
   "cell_type": "code",
   "execution_count": null,
   "id": "4bfd85fb",
   "metadata": {
    "_cell_guid": "79c7e3d0-c299-4dcb-8224-4455121ee9b0",
    "_uuid": "d629ff2d2480ee46fbb7e2d37f6b5fab8052498a"
   },
   "outputs": [],
   "source": [
    "import numpy as np"
   ]
  },
  {
   "cell_type": "code",
   "execution_count": null,
   "id": "fe101d1f",
   "metadata": {},
   "outputs": [],
   "source": [
    "# code to check version of numpy library\n",
    "\n",
    "np.__version__"
   ]
  },
  {
   "cell_type": "code",
   "execution_count": null,
   "id": "14fd879f",
   "metadata": {},
   "outputs": [],
   "source": [
    "#  to display all the contents of the numpy namespace, you can type this, np.<TAB>\n",
    "# And to display NumPy’s built-in documentation, you can use this: np?\n",
    "\n",
    "np?"
   ]
  },
  {
   "cell_type": "code",
   "execution_count": null,
   "id": "0096d5ec",
   "metadata": {},
   "outputs": [],
   "source": [
    "p=np.array([3.14,6,8,9,10,15,19,21])\n",
    "print(p)"
   ]
  },
  {
   "cell_type": "markdown",
   "id": "489b593d",
   "metadata": {},
   "source": [
    "## Array creation"
   ]
  },
  {
   "cell_type": "markdown",
   "id": "d8de2315",
   "metadata": {},
   "source": [
    "NumPy arrays can be created from Python lists"
   ]
  },
  {
   "cell_type": "code",
   "execution_count": null,
   "id": "e35195a7",
   "metadata": {},
   "outputs": [],
   "source": [
    "my_array = np.array([1, 2, 3])\n",
    "my_array"
   ]
  },
  {
   "cell_type": "markdown",
   "id": "b54c2922",
   "metadata": {},
   "source": [
    "NumPy supports array of arbitrary dimension. For example, we can create two-dimensional arrays (e.g. to store a matrix) as follows"
   ]
  },
  {
   "cell_type": "code",
   "execution_count": null,
   "id": "138682f0",
   "metadata": {},
   "outputs": [],
   "source": [
    "my_2d_array = np.array([[1, 2, 3], [4, 5, 6]])\n",
    "my_2d_array"
   ]
  },
  {
   "cell_type": "markdown",
   "id": "0050e923",
   "metadata": {},
   "source": [
    "The number of dimensions is the rank of the array; the shape of an array is a tuple of integers giving the size of the array along each dimension."
   ]
  },
  {
   "cell_type": "code",
   "execution_count": null,
   "id": "f5371ad3",
   "metadata": {},
   "outputs": [],
   "source": [
    "print(my_2d_array.shape)"
   ]
  },
  {
   "cell_type": "markdown",
   "id": "6dd8e34a",
   "metadata": {},
   "source": [
    "Numpy also provides many functions to create arrays:"
   ]
  },
  {
   "cell_type": "code",
   "execution_count": null,
   "id": "e047cd72",
   "metadata": {},
   "outputs": [],
   "source": [
    "a = np.zeros((2,2))  # Create an array of all zeros\n",
    "print(a)"
   ]
  },
  {
   "cell_type": "code",
   "execution_count": null,
   "id": "73a22404",
   "metadata": {},
   "outputs": [],
   "source": [
    "b = np.ones((1,2))   # Create an array of all ones\n",
    "print(b)"
   ]
  },
  {
   "cell_type": "code",
   "execution_count": null,
   "id": "040e6967",
   "metadata": {},
   "outputs": [],
   "source": [
    "c = np.full((2,2), 7) # Create a constant array\n",
    "print(c)"
   ]
  },
  {
   "cell_type": "code",
   "execution_count": null,
   "id": "fc80b155",
   "metadata": {},
   "outputs": [],
   "source": [
    "d = np.eye(2)        # Create a 2x2 identity matrix\n",
    "print(d)"
   ]
  },
  {
   "cell_type": "code",
   "execution_count": null,
   "id": "c63e4a8c",
   "metadata": {},
   "outputs": [],
   "source": [
    "e = np.random.random((2,2)) # Create an array filled with random values\n",
    "print(e)"
   ]
  },
  {
   "cell_type": "code",
   "execution_count": null,
   "id": "e15a3fcd",
   "metadata": {},
   "outputs": [],
   "source": [
    "# Create a numpy with random integers and size\n",
    "a = np.random.randint(10, size = 5)\n",
    "\n",
    "print(a)"
   ]
  },
  {
   "cell_type": "code",
   "execution_count": null,
   "id": "597fefa1",
   "metadata": {},
   "outputs": [],
   "source": [
    "# Create a numpy with random integers and size\n",
    "a=np.random.randint(1,20,size=(2,3))\n",
    "\n",
    "print(a,'a.shape :',a.shape)\n",
    "print('a.dtype :',a.dtype)"
   ]
  },
  {
   "cell_type": "markdown",
   "id": "128e11ae",
   "metadata": {},
   "source": [
    "## Datatypes"
   ]
  },
  {
   "cell_type": "markdown",
   "id": "230e48ba",
   "metadata": {},
   "source": [
    "Every numpy array is a grid of elements of the same type. Numpy provides a large set of numeric datatypes that you can use to construct arrays. Numpy tries to guess a datatype when you create an array, but functions that construct arrays usually also include an optional argument to explicitly specify the datatype. Here is an example:"
   ]
  },
  {
   "cell_type": "code",
   "execution_count": null,
   "id": "a121135f",
   "metadata": {},
   "outputs": [],
   "source": [
    "x = np.array([1, 2])  # Let numpy choose the datatype\n",
    "y = np.array([1.0, 2.0])  # Let numpy choose the datatype\n",
    "z = np.array([1, 2], dtype=np.int64)  # Force a particular datatype\n",
    "\n",
    "print(x.dtype, y.dtype, z.dtype)"
   ]
  },
  {
   "cell_type": "markdown",
   "id": "b2c893e0",
   "metadata": {},
   "source": [
    "## Array indexing and slicing"
   ]
  },
  {
   "cell_type": "markdown",
   "id": "c7164275",
   "metadata": {},
   "source": [
    "Numpy offers several ways to index into arrays."
   ]
  },
  {
   "cell_type": "markdown",
   "id": "5eea3051",
   "metadata": {},
   "source": [
    "Slicing: Similar to Python lists, numpy arrays can be sliced. Since arrays may be multidimensional, you must specify a slice for each dimension of the array:"
   ]
  },
  {
   "cell_type": "code",
   "execution_count": null,
   "id": "290c8493",
   "metadata": {},
   "outputs": [],
   "source": [
    "import numpy as np\n",
    "\n",
    "# Create the following rank 2 array with shape (3, 4)\n",
    "# [[ 1  2  3  4]\n",
    "#  [ 5  6  7  8]\n",
    "#  [ 9 10 11 12]]\n",
    "a = np.array([[1,2,3,4], [5,6,7,8], [9,10,11,12]])\n",
    "\n",
    "# Use slicing to pull out the subarray consisting of the first 2 rows\n",
    "# and columns 1 and 2; b is the following array of shape (2, 2):\n",
    "# [[2 3]\n",
    "#  [6 7]]\n",
    "b = a[:2, 1:3]\n",
    "print(b)"
   ]
  },
  {
   "cell_type": "markdown",
   "id": "263dbf9c",
   "metadata": {},
   "source": [
    "A slice of an array is a view into the same data, so modifying it will modify the original array."
   ]
  },
  {
   "cell_type": "code",
   "execution_count": null,
   "id": "74fd36f3",
   "metadata": {},
   "outputs": [],
   "source": [
    "print(a[0, 1])\n",
    "b[0, 0] = 77    # b[0, 0] is the same piece of data as a[0, 1]\n",
    "print(a[0, 1]) "
   ]
  },
  {
   "cell_type": "markdown",
   "id": "ad83b5e8",
   "metadata": {},
   "source": [
    "You can also mix integer indexing with slice indexing. However, doing so will yield an array of lower rank than the original array. Note that this is quite different from the way that MATLAB handles array slicing:"
   ]
  },
  {
   "cell_type": "code",
   "execution_count": null,
   "id": "ffbb0748",
   "metadata": {
    "scrolled": true
   },
   "outputs": [],
   "source": [
    "# Create the following rank 2 array with shape (3, 4)\n",
    "a = np.array([[1,2,3,4], [5,6,7,8], [9,10,11,12]])\n",
    "print(a)"
   ]
  },
  {
   "cell_type": "markdown",
   "id": "368e658b",
   "metadata": {},
   "source": [
    "Two ways of accessing the data in the middle row of the array. Mixing integer indexing with slices yields an array of lower rank, while using only slices yields an array of the same rank as the original array:"
   ]
  },
  {
   "cell_type": "code",
   "execution_count": null,
   "id": "effc7373",
   "metadata": {},
   "outputs": [],
   "source": [
    "row_r1 = a[1, :]    # Rank 1 view of the second row of a  \n",
    "row_r2 = a[1:2, :]  # Rank 2 view of the second row of a\n",
    "row_r3 = a[[1], :]  # Rank 2 view of the second row of a\n",
    "\n",
    "print(row_r1, row_r1.shape)\n",
    "print(row_r2, row_r2.shape)\n",
    "print(row_r3, row_r3.shape)"
   ]
  },
  {
   "cell_type": "code",
   "execution_count": null,
   "id": "26ee62c0",
   "metadata": {},
   "outputs": [],
   "source": [
    "# We can make the same distinction when accessing columns of an array:\n",
    "col_r1 = a[:, 1]\n",
    "col_r2 = a[:, 1:2]\n",
    "print(col_r1, col_r1.shape)\n",
    "print()\n",
    "print(col_r2, col_r2.shape)"
   ]
  },
  {
   "cell_type": "markdown",
   "id": "0e6f724a",
   "metadata": {},
   "source": [
    "We can also select only certain elements from the array"
   ]
  },
  {
   "cell_type": "code",
   "execution_count": null,
   "id": "2f3e7565",
   "metadata": {},
   "outputs": [],
   "source": [
    "x = np.arange(10)\n",
    "mask = x >= 5\n",
    "x[mask]"
   ]
  },
  {
   "cell_type": "markdown",
   "id": "f36fb81b",
   "metadata": {},
   "source": [
    "## Basic operations"
   ]
  },
  {
   "cell_type": "markdown",
   "id": "8a77b7c3",
   "metadata": {},
   "source": [
    "In NumPy, we express computations directly over arrays. This makes the code much more succint"
   ]
  },
  {
   "cell_type": "markdown",
   "id": "291c7b23",
   "metadata": {},
   "source": [
    "Arithmetic operations can be performed directly over arrays. For instance, assuming two arrays have a compatible shape, we can add them as follows"
   ]
  },
  {
   "cell_type": "code",
   "execution_count": null,
   "id": "830b059c",
   "metadata": {},
   "outputs": [],
   "source": [
    "array_a = np.array([1, 2, 3])\n",
    "array_b = np.array([4, 5, 6])\n",
    "array_a + array_b"
   ]
  },
  {
   "cell_type": "markdown",
   "id": "8f52f407",
   "metadata": {},
   "source": [
    "Compare this with the equivalent computation using a for loop"
   ]
  },
  {
   "cell_type": "code",
   "execution_count": null,
   "id": "e5a81f84",
   "metadata": {},
   "outputs": [],
   "source": [
    "array_out = np.zeros_like(array_a)\n",
    "for i in range(len(array_a)):\n",
    "    array_out[i] = array_a[i] + array_b[i]\n",
    "array_out"
   ]
  },
  {
   "cell_type": "markdown",
   "id": "2500175b",
   "metadata": {},
   "source": [
    "Not only this code is more verbose, it will also run much more slowly."
   ]
  },
  {
   "cell_type": "markdown",
   "id": "0788bb2e",
   "metadata": {},
   "source": [
    "In NumPy, functions that operates on arrays in an element-wise fashion are called [universal functions](https://numpy.org/doc/stable/reference/ufuncs.html). For instance, this is the case of `np.sin`"
   ]
  },
  {
   "cell_type": "code",
   "execution_count": null,
   "id": "1f7a0fd2",
   "metadata": {},
   "outputs": [],
   "source": [
    "np.sin(array_a)"
   ]
  },
  {
   "cell_type": "markdown",
   "id": "551ed4c2",
   "metadata": {},
   "source": [
    "Vector inner product can be performed using `np.dot`"
   ]
  },
  {
   "cell_type": "code",
   "execution_count": null,
   "id": "e3a6d7c0",
   "metadata": {},
   "outputs": [],
   "source": [
    "np.dot(array_a, array_b)"
   ]
  },
  {
   "cell_type": "markdown",
   "id": "0ca454f0",
   "metadata": {},
   "source": [
    "When the two arguments to `np.dot` are both 2d arrays, `np.dot` becomes matrix multiplication"
   ]
  },
  {
   "cell_type": "code",
   "execution_count": null,
   "id": "29e7da50",
   "metadata": {},
   "outputs": [],
   "source": [
    "array_A = np.random.rand(5, 3)\n",
    "array_B = np.random.randn(3, 4)\n",
    "np.dot(array_A, array_B)"
   ]
  },
  {
   "cell_type": "markdown",
   "id": "c68c5437",
   "metadata": {},
   "source": [
    "Matrix transpose can be done using `.transpose()` or `.T` for short"
   ]
  },
  {
   "cell_type": "code",
   "execution_count": null,
   "id": "c7a5765d",
   "metadata": {
    "scrolled": true
   },
   "outputs": [],
   "source": [
    "array_A.T"
   ]
  },
  {
   "cell_type": "markdown",
   "id": "0da3ec49",
   "metadata": {},
   "source": [
    "## Computation on Arrays: Broadcasting"
   ]
  },
  {
   "cell_type": "code",
   "execution_count": null,
   "id": "50c77220",
   "metadata": {},
   "outputs": [],
   "source": [
    "a = np.array([1, 1, 2])\n",
    "b = np.array([5, 6, 5])\n",
    "a + b"
   ]
  },
  {
   "cell_type": "code",
   "execution_count": null,
   "id": "3bc51308",
   "metadata": {},
   "outputs": [],
   "source": [
    "a+5"
   ]
  },
  {
   "cell_type": "code",
   "execution_count": null,
   "id": "ba6472b5",
   "metadata": {},
   "outputs": [],
   "source": [
    "# We can similarly extend this to arrays of higher dimension. Observe the result when we add a one-dimensional array to a two-dimensional array\n",
    "\n",
    "M=np.ones((3,3))\n",
    "M"
   ]
  },
  {
   "cell_type": "code",
   "execution_count": null,
   "id": "93417082",
   "metadata": {},
   "outputs": [],
   "source": [
    "M+a\n",
    "# Here the one-dimensional array a is stretched, or broadcast, across the second dimension in order to match the shape of M"
   ]
  },
  {
   "cell_type": "code",
   "execution_count": null,
   "id": "fe7c6ff1",
   "metadata": {},
   "outputs": [],
   "source": [
    "# While these examples are relatively easy to understand, more complicated cases can involve broadcasting of both arrays. Consider the following example:\n",
    "\n",
    "a=np.arange(3)\n",
    "b=np.arange(3)[:,np.newaxis]\n",
    "print(a)\n",
    "print(b)\n",
    "\n",
    "print(a+b)"
   ]
  },
  {
   "cell_type": "code",
   "execution_count": null,
   "id": "912e6fea",
   "metadata": {},
   "outputs": [],
   "source": [
    "# Rules of Broadcasting\n",
    "# Broadcasting in NumPy follows a strict set of rules to determine the interaction between the two arrays\n",
    "# Rule 1: If the two arrays differ in their number of dimensions, the shape of the one with fewer dimensions is padded with ones on its leading (left) side.\n",
    "# Rule 2: If the shape of the two arrays does not match in any dimension, the array with shape equal to 1 in that dimension is stretched to match the other shape\n",
    "# Rule 3: If in any dimension the sizes disagree and neither is equal to 1, an error is raised.\n",
    "\n",
    "#Broadcasting example 1\n",
    "#Let’s look at adding a two-dimensional array to a one-dimensional array:\n",
    "\n",
    "M=np.ones((2,3))\n",
    "a=np.arange((3))\n",
    "\n",
    "# Let’s consider an operation on these two arrays. The shapes of the arrays are:\n",
    "\n",
    "M.shape"
   ]
  },
  {
   "cell_type": "code",
   "execution_count": null,
   "id": "9b94f40b",
   "metadata": {},
   "outputs": [],
   "source": [
    "a.shape\n",
    "# We see by rule 1 that the array a has fewer dimensions, so we pad it on the left with ones:"
   ]
  },
  {
   "cell_type": "code",
   "execution_count": null,
   "id": "1f0c77e2",
   "metadata": {},
   "outputs": [],
   "source": [
    "M+a   # addition will be a 2x3 matrix"
   ]
  },
  {
   "cell_type": "code",
   "execution_count": null,
   "id": "d9801122",
   "metadata": {},
   "outputs": [],
   "source": [
    "# Broadcasting example 2\n",
    "\n",
    "# Let’s take a look at an example where both arrays need to be broadcast:\n",
    "\n",
    "a=np.arange(3).reshape((3,1))\n",
    "b=np.arange(3)\n",
    "\n",
    "a+b"
   ]
  },
  {
   "cell_type": "markdown",
   "id": "0d43e113",
   "metadata": {},
   "source": [
    "## Fancy Indexing"
   ]
  },
  {
   "cell_type": "code",
   "execution_count": null,
   "id": "fd427dda",
   "metadata": {},
   "outputs": [],
   "source": [
    "# Fancy indexing is like the simple indexing we’ve already seen, but we pass arrays of indices in place of single scalars. This allows us to very quickly access and\n",
    "# modify complicated subsets of an array’s values.\n",
    "\n",
    "import numpy as np\n",
    "rand = np.random.RandomState(42)\n",
    "\n",
    "x = rand.randint(100, size=10)\n",
    "print(x)"
   ]
  },
  {
   "cell_type": "code",
   "execution_count": null,
   "id": "c3aa265a",
   "metadata": {},
   "outputs": [],
   "source": [
    "# Suppose we want to access three different elements. We could do it like this\n",
    "[x[3],x[5],x[7]]"
   ]
  },
  {
   "cell_type": "code",
   "execution_count": null,
   "id": "225d70c5",
   "metadata": {},
   "outputs": [],
   "source": [
    "# Alternatively, we can pass a single list or array of indices to obtain the same result\n",
    "\n",
    "ind=[3,4,7]\n",
    "x[ind]"
   ]
  },
  {
   "cell_type": "code",
   "execution_count": null,
   "id": "73544eb8",
   "metadata": {},
   "outputs": [],
   "source": [
    "# With fancy indexing, the shape of the result reflects the shape of the index arrays rather than the shape of the array being indexed:\n",
    "\n",
    "ind=np.array([[3,7],[4,5]])\n",
    "x[ind]"
   ]
  },
  {
   "cell_type": "code",
   "execution_count": null,
   "id": "77acb3dc",
   "metadata": {},
   "outputs": [],
   "source": [
    "# Fancy indexing also works in multiple dimensions. Consider the following array\n",
    "\n",
    "X=np.arange(12).reshape((3,4))\n",
    "X"
   ]
  },
  {
   "cell_type": "code",
   "execution_count": null,
   "id": "2ebb603d",
   "metadata": {},
   "outputs": [],
   "source": [
    "# Like with standard indexing, the first index refers to the row, and the second to the column\n",
    "\n",
    "row=np.array([0,1,2]) \n",
    "col=np.array([2,1,3])\n",
    "\n",
    "X[row,col]\n",
    "# X(0, 2) first row third colum"
   ]
  },
  {
   "cell_type": "code",
   "execution_count": null,
   "id": "e4341a2a",
   "metadata": {},
   "outputs": [],
   "source": [
    "print(row[:, np.newaxis])\n",
    "\n",
    "X[row[:, np.newaxis], col]"
   ]
  },
  {
   "cell_type": "code",
   "execution_count": null,
   "id": "e89ebeba",
   "metadata": {},
   "outputs": [],
   "source": [
    "row[:, np.newaxis] * col"
   ]
  },
  {
   "cell_type": "code",
   "execution_count": null,
   "id": "ab70cf9c",
   "metadata": {},
   "outputs": [],
   "source": [
    "# Combined Indexing\n",
    "\n",
    "# For even more powerful operations, fancy indexing can be combined with the other indexing schemes we’ve seen\n",
    "\n",
    "print(X)"
   ]
  },
  {
   "cell_type": "code",
   "execution_count": null,
   "id": "885db2a7",
   "metadata": {},
   "outputs": [],
   "source": [
    "# We can combine fancy and simple indices\n",
    "\n",
    "X[2, [2, 0, 1]]"
   ]
  },
  {
   "cell_type": "code",
   "execution_count": null,
   "id": "863c8b9e",
   "metadata": {},
   "outputs": [],
   "source": [
    "# We can also combine fancy indexing with slicing\n",
    "\n",
    "X[1:, [2, 0, 1]]"
   ]
  },
  {
   "cell_type": "code",
   "execution_count": null,
   "id": "a0a2449c",
   "metadata": {},
   "outputs": [],
   "source": [
    "# And we can combine fancy indexing with masking\n",
    "\n",
    "mask = np.array([1, 0, 1, 0], dtype=bool)\n",
    "X[row[:, np.newaxis], mask]"
   ]
  },
  {
   "cell_type": "markdown",
   "id": "447c4232",
   "metadata": {},
   "source": [
    "## Sorting Arrays"
   ]
  },
  {
   "cell_type": "code",
   "execution_count": null,
   "id": "103504be",
   "metadata": {},
   "outputs": [],
   "source": [
    "# Fast Sorting in NumPy: np.sort and np.argsort\n",
    "\n",
    "x = np.array([2, 1, 4, 3, 5])\n",
    "np.sort(x)"
   ]
  },
  {
   "cell_type": "code",
   "execution_count": null,
   "id": "df3036ea",
   "metadata": {},
   "outputs": [],
   "source": [
    "x.sort()\n",
    "print(x)"
   ]
  },
  {
   "cell_type": "code",
   "execution_count": null,
   "id": "d37498f8",
   "metadata": {},
   "outputs": [],
   "source": [
    "# A related function is argsort, which instead returns the indices of the sorted elements\n",
    "\n",
    "x = np.array([2, 1, 4, 3, 5])\n",
    "i = np.argsort(x)\n",
    "print(i)"
   ]
  },
  {
   "cell_type": "code",
   "execution_count": null,
   "id": "d97ff13a",
   "metadata": {},
   "outputs": [],
   "source": [
    "x[i]"
   ]
  },
  {
   "cell_type": "code",
   "execution_count": null,
   "id": "d298b95f",
   "metadata": {},
   "outputs": [],
   "source": [
    "# Sorting along rows or columns\n",
    "\n",
    "# A useful feature of NumPy’s sorting algorithms is the ability to sort along specific rows or columns of a multidimensional array using the axis argument\n",
    "\n",
    "rand = np.random.RandomState(42)\n",
    "X = rand.randint(0, 10, (4, 6))\n",
    "X"
   ]
  },
  {
   "cell_type": "code",
   "execution_count": null,
   "id": "06c04062",
   "metadata": {},
   "outputs": [],
   "source": [
    "# sort each column of X\n",
    "np.sort(X, axis=0)"
   ]
  },
  {
   "cell_type": "code",
   "execution_count": null,
   "id": "101edf17",
   "metadata": {},
   "outputs": [],
   "source": [
    "# sort each row of X\n",
    "np.sort(X, axis=1)"
   ]
  }
 ],
 "metadata": {
  "hide_input": false,
  "kernelspec": {
   "display_name": "Python 3",
   "language": "python",
   "name": "python3"
  },
  "language_info": {
   "codemirror_mode": {
    "name": "ipython",
    "version": 3
   },
   "file_extension": ".py",
   "mimetype": "text/x-python",
   "name": "python",
   "nbconvert_exporter": "python",
   "pygments_lexer": "ipython3",
   "version": "3.8.8"
  }
 },
 "nbformat": 4,
 "nbformat_minor": 5
}
